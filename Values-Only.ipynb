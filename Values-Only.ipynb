{
 "cells": [
  {
   "cell_type": "code",
   "execution_count": 33,
   "metadata": {},
   "outputs": [],
   "source": [
    "import numpy as np\n",
    "from Values import Values\n",
    "import matplotlib.pyplot as plt\n",
    "\n",
    "class Action():\n",
    "    \n",
    "    def __init__(self,name, agent, v_index):\n",
    "        \n",
    "        '''\n",
    "        generic action class, similar to activity but not of agent type\n",
    "        '''\n",
    "        self.name = name\n",
    "        self.agent = agent            #tie it to a given agent\n",
    "        self.v_index = v_index          #index of value to be satisfied\n",
    "        self.counter = 0              #for histogramming purposes\n",
    "        \n",
    "    def precondition(self):\n",
    "        \n",
    "        return True\n",
    "        \n",
    "    def do(self):\n",
    "        \n",
    "        self.agent.values.val_t[self.v_index] += self.agent.values.val_sat[self.v_index]\n",
    "        self.counter += 1\n",
    "\n",
    "class valuesTest():\n",
    "    \n",
    "    def __init__(self, decay, se, st, c, otc, num_steps):\n",
    "        \n",
    "        self.values = Values(decay, se, st, c, otc, self)\n",
    "        self.actions = set([])\n",
    "        self.step_counter = 0\n",
    "        self.action_frequency = 12\n",
    "        self.num_steps = num_steps\n",
    "        self.data = np.zeros((num_steps,4))\n",
    "        \n",
    "        for i in range(4):\n",
    "            self.actions.add(Action('action'+str(i), self, i))\n",
    "        \n",
    "    def act(self):\n",
    "        #prioritize\n",
    "        priority = self.values.prioritize()\n",
    "\n",
    "\n",
    "        #act\n",
    "        #find action that corresponds to priority\n",
    "        current = None\n",
    "        possible_actions = set(filter(lambda x: x.precondition(), self.actions))\n",
    "        for value in priority:\n",
    "                for action in possible_actions:\n",
    "                    if value == action.v_index:\n",
    "                        current = action\n",
    "                        break\n",
    "                if current != None:\n",
    "                    break\n",
    "\n",
    "        #update v_sat\n",
    "        if current != None:\n",
    "            #print(current.name)\n",
    "            current.do()\n",
    "    \n",
    "    def step(self):\n",
    "        self.values.decay_val()\n",
    "        \n",
    "        \n",
    "        if self.step_counter % self.action_frequency == 0:\n",
    "            \n",
    "            self.act()\n",
    "\n",
    "        self.data[self.step_counter,:] = self.values.val_t\n",
    "        self.step_counter+= 1\n"
   ]
  },
  {
   "cell_type": "code",
   "execution_count": 35,
   "metadata": {},
   "outputs": [
    {
     "data": {
      "image/png": "[encoded data removed]",
      "text/plain": [
       "<Figure size 432x288 with 1 Axes>"
      ]
     },
     "metadata": {},
     "output_type": "display_data"
    }
   ],
   "source": [
    "test = valuesTest(10,40,60,70,30,100)\n",
    "for step in range(test.num_steps):\n",
    "    test.step()\n",
    "\n",
    "plt.plot(test.data)\n",
    "plt.title('Current Decay')\n",
    "plt.show()\n",
    "\n",
    "    \n",
    "    "
   ]
  }
 ],
 "metadata": {
  "kernelspec": {
   "display_name": "Python 3",
   "language": "python",
   "name": "python3"
  },
  "language_info": {
   "codemirror_mode": {
    "name": "ipython",
    "version": 3
   },
   "file_extension": ".py",
   "mimetype": "text/x-python",
   "name": "python",
   "nbconvert_exporter": "python",
   "pygments_lexer": "ipython3",
   "version": "3.6.4"
  }
 },
 "nbformat": 4,
 "nbformat_minor": 2
}
