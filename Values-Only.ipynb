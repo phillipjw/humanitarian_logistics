{
 "cells": [
  {
   "cell_type": "code",
   "execution_count": 14,
   "metadata": {},
   "outputs": [],
   "source": [
    "import numpy as np\n",
    "from Values import Values\n",
    "\n",
    "class Action():\n",
    "    \n",
    "    def __init__(self,name, agent, v_index):\n",
    "        \n",
    "        '''\n",
    "        generic action class, similar to activity but not of agent type\n",
    "        '''\n",
    "        self.name = name\n",
    "        self.agent = agent            #tie it to a given agent\n",
    "        self.v_index = v_index          #index of value to be satisfied\n",
    "        self.counter = 0              #for histogramming purposes\n",
    "    \n",
    "    def precondition(self):\n",
    "        \n",
    "        return True\n",
    "        \n",
    "    def do(self):\n",
    "        \n",
    "        self.agent.values.val_t[self.v_index] += self.agent.values.val_sat[self.v_index]\n",
    "        self.counter += 1\n",
    "\n",
    "class valuesTest():\n",
    "    \n",
    "    def __init__(self, decay, se, st, c, otc):\n",
    "        \n",
    "        self.values = Values(decay, se, st, c, otc, self)\n",
    "        self.actions = set([])\n",
    "        for i in range(4):\n",
    "            self.actions.add(Action('action'+str(i), self, i))\n",
    "        \n",
    "    \n",
    "    def step(self):\n",
    "        self.values.decay_val()\n",
    "\n",
    "        #prioritize\n",
    "        priority = self.values.prioritize()\n",
    "\n",
    "\n",
    "        #act\n",
    "        #find action that corresponds to priority\n",
    "        current = None\n",
    "        possible_actions = set(filter(lambda x: x.precondition(), self.actions))\n",
    "        for value in priority:\n",
    "                for action in possible_actions:\n",
    "                    if value == action.v_index:\n",
    "                        current = action\n",
    "                        break\n",
    "                if current != None:\n",
    "                    break\n",
    "\n",
    "        #update v_sat\n",
    "        if current != None:\n",
    "            #print(current.name)\n",
    "            current.do()\n",
    "        print(self.values.val_t)\n"
   ]
  },
  {
   "cell_type": "code",
   "execution_count": 18,
   "metadata": {},
   "outputs": [
    {
     "name": "stdout",
     "output_type": "stream",
     "text": [
      "[140  50  50  50]\n",
      "[130 130  40  40]\n",
      "[120 120 120  30]\n",
      "[110 110 110 110]\n",
      "[190 100 100 100]\n",
      "[180 180  90  90]\n",
      "[170 170 170  80]\n",
      "[160 160 160 160]\n",
      "[240 150 150 150]\n",
      "[230 230 140 140]\n"
     ]
    }
   ],
   "source": [
    "test = valuesTest(10,10,10,10,10)\n",
    "for i in range(10):\n",
    "    test.step()\n",
    "    "
   ]
  }
 ],
 "metadata": {
  "kernelspec": {
   "display_name": "Python 3",
   "language": "python",
   "name": "python3"
  },
  "language_info": {
   "codemirror_mode": {
    "name": "ipython",
    "version": 3
   },
   "file_extension": ".py",
   "mimetype": "text/x-python",
   "name": "python",
   "nbconvert_exporter": "python",
   "pygments_lexer": "ipython3",
   "version": "3.6.4"
  }
 },
 "nbformat": 4,
 "nbformat_minor": 2
}
